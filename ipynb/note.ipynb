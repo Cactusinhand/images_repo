{
 "cells": [
  {
   "cell_type": "markdown",
   "metadata": {},
   "source": [
    "# Jupyter Notebook 中使用 Go kernel"
   ]
  },
  {
   "cell_type": "markdown",
   "metadata": {},
   "source": [
    "首先可以看到，如果直接在 `Code Cell` 中定义`main()` 函数，点击`执行`后并没有输出结果："
   ]
  },
  {
   "cell_type": "code",
   "execution_count": 7,
   "metadata": {},
   "outputs": [],
   "source": [
    "package main\n",
    "\n",
    "import \"fmt\"\n",
    "\n",
    "func main()  {\n",
    "\tfmt.Println(\"hello, world!\")\n",
    "}\n"
   ]
  },
  {
   "cell_type": "markdown",
   "metadata": {},
   "source": [
    "于是我试了一下这样写："
   ]
  },
  {
   "cell_type": "code",
   "execution_count": 8,
   "metadata": {},
   "outputs": [
    {
     "name": "stdout",
     "output_type": "stream",
     "text": [
      "100\n"
     ]
    },
    {
     "data": {
      "text/plain": [
       "4 <nil>"
      ]
     },
     "execution_count": 8,
     "metadata": {},
     "output_type": "execute_result"
    }
   ],
   "source": [
    "package main\n",
    "import \"fmt\"\n",
    "\n",
    "a := 100\n",
    "\n",
    "fmt.Println(a)\n"
   ]
  },
  {
   "cell_type": "markdown",
   "metadata": {},
   "source": [
    "从上面可以看到，有了预期结果，只是又多了`4 <nil>` 这个奇怪的结果。难道不需要直接写main()函数即可执行结果？注意到`a := 100`没报错，这似乎说明这个`Code Cell`中的代码就是在一个函数内进行的，应该就是 `main()` 吧？\n",
    "但是，前面的`import \"fmt\"`语句是如何解释呢？肯定哪里不对。"
   ]
  },
  {
   "cell_type": "markdown",
   "metadata": {},
   "source": [
    "经过几次实验，突然想到 main() 函数需要被调用才可以执行，于是终于得到正确的写法："
   ]
  },
  {
   "cell_type": "code",
   "execution_count": 9,
   "metadata": {},
   "outputs": [
    {
     "name": "stdout",
     "output_type": "stream",
     "text": [
      "hello, world!\n"
     ]
    }
   ],
   "source": [
    "package main\n",
    "import \"fmt\"\n",
    "\n",
    "func main()  {\n",
    "\timport \"fmt\"\n",
    "\tfmt.Println(\"hello, world!\")\n",
    "}\n",
    "\n",
    "// 调用 main 函数\n",
    "main()\n"
   ]
  },
  {
   "cell_type": "markdown",
   "metadata": {},
   "source": [
    "### 弄清楚了正确的使用方法，下面就是正常的使用了："
   ]
  },
  {
   "cell_type": "code",
   "execution_count": 10,
   "metadata": {},
   "outputs": [
    {
     "name": "stdout",
     "output_type": "stream",
     "text": [
      "5\n"
     ]
    }
   ],
   "source": [
    "package main\n",
    "import \"fmt\"\n",
    "\n",
    "\n",
    "func add(a, b int) int {\n",
    "\treturn a + b\n",
    "}\n",
    "\n",
    "func main() {\n",
    "\ta, b := 2, 3\n",
    "\tfmt.Println(add(a,b))\t\n",
    "}\n",
    "\n",
    "main()\n"
   ]
  },
  {
   "cell_type": "markdown",
   "metadata": {},
   "source": [
    "当然也可以直接用内置了 print(), println() 方法，可以不需要导入`fmt`库。\n",
    "与`fmt`库中的 Print() 函数相比，内置的 print()不会将其参数逃逸到堆中。"
   ]
  },
  {
   "cell_type": "code",
   "execution_count": 11,
   "metadata": {},
   "outputs": [
    {
     "name": "stderr",
     "output_type": "stream",
     "text": [
      "0xc00000bd80\n",
      "0xc0001244b0 200\n"
     ]
    }
   ],
   "source": [
    "package main\n",
    "\n",
    "func main() {\n",
    "\tx := 100\n",
    "\tprintln(&x)\n",
    "\t{\n",
    "\t\tx, y := 200, \"abc\"\n",
    "\t\tprintln(&x, x)\t\n",
    "\t}\n",
    "}\n",
    "\n",
    "main()\n"
   ]
  },
  {
   "cell_type": "markdown",
   "metadata": {},
   "source": [
    "继续试一下于常规 Go 环境中相比，在 code cell 中有什么不同\n",
    "\n",
    "main()函数里面写 import 语句并没有报错，这个是跟正常的情况不一样的地方"
   ]
  },
  {
   "cell_type": "code",
   "execution_count": 12,
   "metadata": {},
   "outputs": [
    {
     "name": "stdout",
     "output_type": "stream",
     "text": [
      "hello, world!\n"
     ]
    }
   ],
   "source": [
    "package main\n",
    "\n",
    "import \"fmt\"\n",
    "\n",
    "func main()  {\n",
    "\timport \"fmt\"\n",
    "\timport \"errors\"\n",
    "\tfmt.Println(\"hello, world!\")\n",
    "}\n",
    "\n",
    "main()\n"
   ]
  },
  {
   "cell_type": "markdown",
   "metadata": {},
   "source": [
    "还有不一样的地方：在开头没写`package main`, 也没`import \"fmt\"`，也能正常输出结果"
   ]
  },
  {
   "cell_type": "code",
   "execution_count": 13,
   "metadata": {},
   "outputs": [
    {
     "name": "stdout",
     "output_type": "stream",
     "text": [
      "hello, world!\n"
     ]
    }
   ],
   "source": [
    "func main()  {\n",
    "\tfmt.Println(\"hello, world!\")\n",
    "}\n",
    "\n",
    "main()\n"
   ]
  },
  {
   "cell_type": "markdown",
   "metadata": {},
   "source": [
    "所以在这个环境里面，跟正常的环境还是略有不同。不过这不影响我们的使用。还是按平常的写法即可。"
   ]
  }
 ],
 "metadata": {
  "kernelspec": {
   "display_name": "Go",
   "language": "go",
   "name": "gophernotes"
  },
  "language_info": {
   "codemirror_mode": "",
   "file_extension": ".go",
   "mimetype": "",
   "name": "go",
   "nbconvert_exporter": "",
   "pygments_lexer": "",
   "version": "go1.23.0"
  }
 },
 "nbformat": 4,
 "nbformat_minor": 2
}
