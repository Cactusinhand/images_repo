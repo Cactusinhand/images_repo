{
 "cells": [
  {
   "cell_type": "markdown",
   "id": "8af4916b-43ca-4637-9fb9-963ab382dfe6",
   "metadata": {},
   "source": [
    "## GoNB 的基本使用\n",
    "\n",
    "**下面是一个最简单的 go demo 程序：**"
   ]
  },
  {
   "cell_type": "code",
   "execution_count": 1,
   "id": "1b0aab19-f18c-4d57-bdc7-a8e0c3f8b40d",
   "metadata": {},
   "outputs": [
    {
     "name": "stdout",
     "output_type": "stream",
     "text": [
      "Hello, world!\n"
     ]
    }
   ],
   "source": [
    "package main\n",
    "\n",
    "import \"fmt\"\n",
    "\n",
    "func main() {\n",
    "    fmt.Println(\"Hello, world!\")\n",
    "}"
   ]
  },
  {
   "cell_type": "markdown",
   "id": "ddd4afff-7a5b-4785-88c1-39be4239939b",
   "metadata": {},
   "source": [
    "但是在 GoNB 中可以不这么麻烦。\n",
    "\n",
    "**首先，gonb 会自动尝试 import 依赖包**,(builtin 类型的包，第三方包需要手动 import)\n",
    "\n",
    "**其次，在一个 code cell 不需要每次都写一遍`func main() {}`，使用 `%%`可以简化这个过程，在一个 cell 里面加上 `%%`, gonb 会自动将代码插入 `func main() {}` 内部。**"
   ]
  },
  {
   "cell_type": "code",
   "execution_count": 2,
   "id": "f033b2db-405b-43ac-9f4b-b70fc8cb1769",
   "metadata": {},
   "outputs": [
    {
     "name": "stdout",
     "output_type": "stream",
     "text": [
      "hello, gonb\n"
     ]
    }
   ],
   "source": [
    "%%\n",
    "fmt.Println(\"hello, gonb\")"
   ]
  },
  {
   "cell_type": "markdown",
   "id": "f7d872fb-5576-47d2-a430-e2e5a30d4a49",
   "metadata": {},
   "source": [
    "### 1. 变量"
   ]
  },
  {
   "cell_type": "markdown",
   "id": "af70f824-6703-4b09-a68d-ba559e3914fd",
   "metadata": {},
   "source": [
    "***import、函数、常量、类型和变量全局声明在执行后会被记住，并从一个 cell 传到另一个 cell。***\n",
    "\n",
    "**但是对于变量的声明，其执行结果不能在 cell 间共享(传递)**"
   ]
  },
  {
   "cell_type": "code",
   "execution_count": 3,
   "id": "8b24b698-9787-4195-8c0a-60f2596658a0",
   "metadata": {},
   "outputs": [],
   "source": [
    "// 在一个 cell 中定义一个函数\n",
    "func incr[T interface{constraints.Float|constraints.Integer}](x T) T {\n",
    "    return x+T(1)\n",
    "}"
   ]
  },
  {
   "cell_type": "code",
   "execution_count": 4,
   "id": "3d78b785-a5cd-44de-b9f3-d71c45fd388c",
   "metadata": {},
   "outputs": [
    {
     "name": "stdout",
     "output_type": "stream",
     "text": [
      "incr: x=2, y=4.141593\n"
     ]
    }
   ],
   "source": [
    "// 另一个 cell 中使用\n",
    "%%\n",
    "x := incr(1)\n",
    "y := incr(math.Pi)\n",
    "fmt.Printf(\"incr: x=%d, y=%f\\n\", x, y)"
   ]
  },
  {
   "cell_type": "code",
   "execution_count": 5,
   "id": "805b564c-1019-4fe0-9c73-1661316ea71e",
   "metadata": {},
   "outputs": [
    {
     "name": "stdout",
     "output_type": "stream",
     "text": [
      "current startValue=2.000000\n"
     ]
    }
   ],
   "source": [
    "// 声明一个变量\n",
    "var startValue = float32(1)\n",
    "\n",
    "%%\n",
    "// 更新这个值：\n",
    "startValue = incr(startValue)\n",
    "fmt.Printf(\"current startValue=%f\\n\", startValue)"
   ]
  },
  {
   "cell_type": "code",
   "execution_count": 6,
   "id": "08b81d1d-9b11-4735-b2fb-591649516b3e",
   "metadata": {},
   "outputs": [
    {
     "name": "stdout",
     "output_type": "stream",
     "text": [
      "current startValue=1.000000\n"
     ]
    }
   ],
   "source": [
    "// 但是在另外一个 cell 中，其值并没有传递过来，还是定义时的值：\n",
    "%%\n",
    "fmt.Printf(\"current startValue=%f\\n\", startValue)"
   ]
  },
  {
   "cell_type": "markdown",
   "id": "6f151566-17e5-40b0-915b-2dc5c738cde9",
   "metadata": {},
   "source": [
    "**要在执行结果保存到下一个 cell，可以用 `github.com/janpfeifer/gonb/cache` 包**\n",
    "\n",
    "多次执行下面这段代码，`CachedValue`值一直不变，而 `NonCachedValue` 一直变化："
   ]
  },
  {
   "cell_type": "code",
   "execution_count": 7,
   "id": "87f9fa45-5dc4-462c-9ee3-70d3d10add0c",
   "metadata": {},
   "outputs": [
    {
     "name": "stdout",
     "output_type": "stream",
     "text": [
      "\t...VeryExpensive() call...\n",
      "NonCachedValue=828\n",
      "   CachedValue=86\n"
     ]
    }
   ],
   "source": [
    "// Temporary fix until new release v0.6.0 propagates.\n",
    "import (\n",
    "    \"math/rand\"\n",
    "    \"github.com/janpfeifer/gonb/cache\"\n",
    ")\n",
    "\n",
    "func VeryExpensive() int {\n",
    "    fmt.Println(\"\\t...VeryExpensive() call...\")\n",
    "    return rand.Intn(1000)\n",
    "}\n",
    "\n",
    "var (\n",
    "    CachedValue = cache.Cache(\"expensive\", VeryExpensive)\n",
    "    NonCachedValue = VeryExpensive()\n",
    ")\n",
    "    \n",
    "%%\n",
    "fmt.Printf(\"NonCachedValue=%d\\n\", NonCachedValue)\n",
    "fmt.Printf(\"   CachedValue=%d\\n\", CachedValue)"
   ]
  },
  {
   "cell_type": "markdown",
   "id": "13db7dbf-39e8-4185-a113-4afafd4c72f3",
   "metadata": {},
   "source": [
    "移除定义的变量，免得对后面的代码有影响"
   ]
  },
  {
   "cell_type": "code",
   "execution_count": 8,
   "id": "f13c83ee-5391-41a1-a2be-abe8b68bdeee",
   "metadata": {},
   "outputs": [
    {
     "name": "stdout",
     "output_type": "stream",
     "text": [
      ". removed var NonCachedValue\n",
      ". removed var CachedValue\n"
     ]
    }
   ],
   "source": [
    "%rm NonCachedValue CachedValue"
   ]
  },
  {
   "cell_type": "markdown",
   "id": "31e58b19-18b9-426b-89e7-28c2e3132f73",
   "metadata": {},
   "source": [
    "### 2. import"
   ]
  },
  {
   "cell_type": "markdown",
   "id": "ae01275b-3884-4cd0-8c29-0406833e9f89",
   "metadata": {},
   "source": [
    "1. gonb 会在编译代码前 执行 **goimports**， 这会自动添加代码里涉及到的 builtin packages\n",
    "2. gonb 会在编译代码前执行 **go get**， 来自动下载在代码里 import 的第三方包\n",
    "3. 当然我们还可以手动下载，这个后面会用特殊的命令实现"
   ]
  },
  {
   "cell_type": "code",
   "execution_count": 9,
   "id": "a7434f6f-365f-4270-a403-e706d95ca978",
   "metadata": {},
   "outputs": [
    {
     "name": "stdout",
     "output_type": "stream",
     "text": [
      " 100% |████████████████████████████████████████| (25 steps/s) [3s:0s]0s]\n",
      "Done\n"
     ]
    }
   ],
   "source": [
    "// 下面是一个例子，第三方包 progressbar 是第一次使用，但是在执行这段代码时， gonb 会自动获取\n",
    "import progressbar \"github.com/schollz/progressbar/v3\"\n",
    "\n",
    "%%\n",
    "bar := progressbar.NewOptions(100, \n",
    "                              progressbar.OptionUseANSICodes(true),\n",
    "                              progressbar.OptionShowIts(),\n",
    "                              progressbar.OptionSetItsString(\"steps\"))\n",
    "for i := 0; i < 100; i++ {\n",
    "    bar.Add(1)\n",
    "    time.Sleep(40 * time.Millisecond)\n",
    "}\n",
    "fmt.Printf(\"\\nDone\\n\")"
   ]
  },
  {
   "cell_type": "markdown",
   "id": "c8222358-d7e0-47a5-8a1f-8b14d47d8754",
   "metadata": {},
   "source": [
    "### 3. 显示 HTML，Markdown，image 等到"
   ]
  },
  {
   "cell_type": "markdown",
   "id": "04f718fc-b48f-4a2a-b16d-903bf097692f",
   "metadata": {},
   "source": [
    "**DisplayHtml**"
   ]
  },
  {
   "cell_type": "code",
   "execution_count": 10,
   "id": "1cab15cc-cb92-4dc5-a665-9c38a49c9d14",
   "metadata": {},
   "outputs": [
    {
     "data": {
      "text/html": [
       "<span style=\"background:pink; color:#111; border-radius: 3px; border: 3px solid orange; font-size: 18px;\">I 🧡 GoNB!</span>"
      ]
     },
     "metadata": {},
     "output_type": "display_data"
    }
   ],
   "source": [
    "// DisplayHtml\n",
    "import \"github.com/janpfeifer/gonb/gonbui\"\n",
    "\n",
    "%%\n",
    "gonbui.DisplayHtml(`<span style=\"background:pink; color:#111; border-radius: 3px; border: 3px solid orange; font-size: 18px;\">I 🧡 GoNB!</span>`)"
   ]
  },
  {
   "cell_type": "markdown",
   "id": "16a73277-7ef3-41f5-a29e-d4558daff292",
   "metadata": {},
   "source": [
    "**Markdown**"
   ]
  },
  {
   "cell_type": "code",
   "execution_count": 11,
   "id": "d5f07c03-014f-43dc-ab7e-f5ca583ec4b3",
   "metadata": {},
   "outputs": [
    {
     "data": {
      "text/markdown": [
       "#### Objective\n",
       "\n",
       "1. Have fun coding **Go**;\n",
       "1. Profit...\n",
       "$$f(x) = \\int_{-\\infty}^{\\infty} e^{-x^2} dx$$"
      ]
     },
     "metadata": {},
     "output_type": "display_data"
    }
   ],
   "source": [
    "// DisplayMarkdown\n",
    "%%\n",
    "gonbui.DisplayMarkdown(\"#### Objective\\n\\n1. Have fun coding **Go**;\\n1. Profit...\\n\"+\n",
    "                       `$$f(x) = \\int_{-\\infty}^{\\infty} e^{-x^2} dx$$`)"
   ]
  },
  {
   "cell_type": "markdown",
   "id": "e28ef23f-bbb3-4c4e-98a3-565c5e14555e",
   "metadata": {},
   "source": [
    "**绘图**\n",
    "\n",
    "首先手动安装外部包："
   ]
  },
  {
   "cell_type": "code",
   "execution_count": 12,
   "id": "a8652844-97e5-4bca-9bf6-d63576e15f70",
   "metadata": {},
   "outputs": [
    {
     "name": "stderr",
     "output_type": "stream",
     "text": [
      "go: added github.com/erkkah/margaid v0.1.1-0.20230128143048-d60b2efd2f5a\n"
     ]
    }
   ],
   "source": [
    "!*go get -u github.com/erkkah/margaid@d60b2efd2f5acc5d8fbbe13eaf85f1532e11a2fb"
   ]
  },
  {
   "cell_type": "code",
   "execution_count": 13,
   "id": "8f1f2793-83e5-4af3-9010-cba9abffba87",
   "metadata": {},
   "outputs": [
    {
     "data": {
      "text/html": [
       "<div><svg preserveAspectRatio=\"xMidYMid meet\" xmlns=\"http://www.w3.org/2000/svg\" width=\"640\" height=\"480\" viewbox=\"0 0 640 480\" style=\"background-color:#f8f8f8\"><defs><marker refX=\"5\" refY=\"5\" markerUnits=\"userSpaceOnUse\" markerWidth=\"2%\" markerHeight=\"2%\" id=\"circle\" viewBox=\"0 0 10 10 \"><circle fill=\"none\" stroke=\"black\" cx=\"5\" cy=\"5\" r=\"3\"/></marker><marker markerUnits=\"userSpaceOnUse\" markerWidth=\"2%\" markerHeight=\"2%\" id=\"filled-circle\" viewBox=\"0 0 10 10 \" refX=\"5\" refY=\"5\"><circle cy=\"5\" r=\"3\" fill=\"black\" stroke=\"none\" cx=\"5\"/></marker><marker refX=\"5\" refY=\"5\" markerUnits=\"userSpaceOnUse\" markerWidth=\"2%\" markerHeight=\"2%\" id=\"square\" viewBox=\"0 0 10 10 \"><rect width=\"6\" height=\"6\" fill=\"none\" stroke=\"black\" x=\"2\" y=\"2\"/></marker><marker refX=\"5\" refY=\"5\" markerUnits=\"userSpaceOnUse\" markerWidth=\"2%\" markerHeight=\"2%\" id=\"filled-square\" viewBox=\"0 0 10 10 \"><rect x=\"2\" y=\"2\" width=\"6\" height=\"6\" fill=\"black\" stroke=\"none\"/></marker></defs><g marker-mid=\"url(#square)\" fill=\"none\" marker-start=\"url(#square)\" stroke-linejoin=\"round\" marker-end=\"url(#square)\" transform=\"translate(70 410 )scale(1 -1 )\" stroke=\"hsl(90, 47%, 65%)\" stroke-width=\"1px\" stroke-linecap=\"round\"><path vector-effect=\"non-scaling-stroke\" d=\"M10,6.800000e+00 L6.333333e+01,4.306667e+01 L1.166667e+02,7.933333e+01 L170,1.156000e+02 L2.233333e+02,1.518667e+02 L2.766667e+02,1.881333e+02 L330,2.244000e+02 L3.833333e+02,2.606667e+02 L4.366667e+02,2.969333e+02 L490,3.332000e+02 \"/></g><g stroke-width=\"3.14px\" fill=\"none\" stroke=\"hsl(301, 88%, 65%)\" stroke-linecap=\"round\" stroke-linejoin=\"round\" transform=\"translate(70 410 )scale(1 -1 )\"><path vector-effect=\"non-scaling-stroke\" d=\"M1.000000e+01,6.800000e+00 C1.888889e+01,6.875434e+00 4.555556e+01,7.018758e+00 6.333333e+01,7.252602e+00 C8.111111e+01,7.486446e+00 9.888889e+01,7.711993e+00 1.166667e+02,8.203066e+00 C1.344444e+02,8.694139e+00 1.522222e+02,9.167786e+00 1.700000e+02,1.019904e+01 C1.877778e+02,1.123029e+01 2.055556e+02,1.222495e+01 2.233333e+02,1.439059e+01 C2.411111e+02,1.655622e+01 2.588889e+02,1.864500e+01 2.766667e+02,2.319283e+01 C2.944444e+02,2.774066e+01 3.122222e+02,3.212711e+01 3.300000e+02,4.167755e+01 C3.477778e+02,5.122798e+01 3.655556e+02,6.043953e+01 3.833333e+02,8.049545e+01 C4.011111e+02,1.005514e+02 4.188889e+02,1.198956e+02 4.366667e+02,1.620130e+02 C4.544444e+02,2.041305e+02 4.811111e+02,3.046688e+02 4.900000e+02,3.332000e+02 \"/></g><g stroke-linejoin=\"round\" marker-start=\"url(#filled-circle)\" transform=\"translate(70 410 )scale(1 -1 )\" fill=\"none\" stroke-linecap=\"round\" marker-mid=\"url(#filled-circle)\" stroke-width=\"3px\" marker-end=\"url(#filled-circle)\" stroke=\"hsl(152, 76%, 65%)\"><path vector-effect=\"non-scaling-stroke\" d=\"M1.000000e+01,2.354585e+02 C1.888889e+01,2.239171e+02 4.555556e+01,1.608913e+02 6.333333e+01,1.662100e+02 C8.111111e+01,1.715288e+02 9.888889e+01,2.521869e+02 1.166667e+02,2.673708e+02 C1.344444e+02,2.825548e+02 1.522222e+02,2.603916e+02 1.700000e+02,2.573139e+02 C1.877778e+02,2.542362e+02 2.055556e+02,2.552644e+02 2.233333e+02,2.489046e+02 C2.411111e+02,2.425449e+02 2.588889e+02,2.136328e+02 2.766667e+02,2.191553e+02 C2.944444e+02,2.246778e+02 3.122222e+02,2.728981e+02 3.300000e+02,2.820395e+02 C3.477778e+02,2.911810e+02 3.655556e+02,2.738637e+02 3.833333e+02,2.740040e+02 C4.011111e+02,2.741443e+02 4.188889e+02,2.838430e+02 4.366667e+02,2.828814e+02 C4.544444e+02,2.819197e+02 4.811111e+02,2.706752e+02 4.900000e+02,2.682339e+02 \"/></g><g stroke-linecap=\"round\" stroke-linejoin=\"round\" transform=\"translate(70 410 )scale(1 -1 )\" stroke-width=\"2px\" fill=\"none\" stroke=\"black\"><path vector-effect=\"non-scaling-stroke\" d=\"M10,0 L10,-6 M6.333333e+01,0 L6.333333e+01,-6 M1.166667e+02,0 L1.166667e+02,-6 M170,0 L170,-6 M2.233333e+02,0 L2.233333e+02,-6 M2.766667e+02,0 L2.766667e+02,-6 M330,0 L330,-6 M3.833333e+02,0 L3.833333e+02,-6 M4.366667e+02,0 L4.366667e+02,-6 M490,0 L490,-6 \"/></g><g stroke-linecap=\"round\" stroke-linejoin=\"round\" transform=\"translate(70 410 )scale(1 1 )\" font-style=\"normal\" font-weight=\"normal\" text-anchor=\"middle\" dominant-baseline=\"hanging\" font-size=\"12px\" stroke=\"black\" stroke-width=\"2px\" font-family=\"sans-serif\" fill=\"black\"><text y=\"10\" dominant-baseline=\"hanging\" stroke=\"none\" vector-effect=\"non-scaling-stroke\" x=\"10\">1</text><text vector-effect=\"non-scaling-stroke\" x=\"6.333333e+01\" y=\"10\" dominant-baseline=\"hanging\" stroke=\"none\">2</text><text y=\"10\" dominant-baseline=\"hanging\" stroke=\"none\" vector-effect=\"non-scaling-stroke\" x=\"1.166667e+02\">3</text><text x=\"170\" y=\"10\" dominant-baseline=\"hanging\" stroke=\"none\" vector-effect=\"non-scaling-stroke\">4</text><text stroke=\"none\" vector-effect=\"non-scaling-stroke\" x=\"2.233333e+02\" y=\"10\" dominant-baseline=\"hanging\">5</text><text stroke=\"none\" vector-effect=\"non-scaling-stroke\" x=\"2.766667e+02\" y=\"10\" dominant-baseline=\"hanging\">6</text><text stroke=\"none\" vector-effect=\"non-scaling-stroke\" x=\"330\" y=\"10\" dominant-baseline=\"hanging\">7</text><text dominant-baseline=\"hanging\" stroke=\"none\" vector-effect=\"non-scaling-stroke\" x=\"3.833333e+02\" y=\"10\">8</text><text stroke=\"none\" vector-effect=\"non-scaling-stroke\" x=\"4.366667e+02\" y=\"10\" dominant-baseline=\"hanging\">9</text><text stroke=\"none\" vector-effect=\"non-scaling-stroke\" x=\"490\" y=\"10\" dominant-baseline=\"hanging\">10</text></g><g stroke-width=\"2px\" font-weight=\"bold\" dominant-baseline=\"baseline\" stroke-linecap=\"round\" stroke-linejoin=\"round\" transform=\"translate(70 410 )scale(1 1 )rotate(0 0 0 )\" font-size=\"12px\" font-style=\"normal\" text-anchor=\"middle\" fill=\"black\" stroke=\"black\" font-family=\"sans-serif\"><text dominant-baseline=\"baseline\" stroke=\"none\" vector-effect=\"non-scaling-stroke\" x=\"250\" y=\"-6\">X</text></g><g font-size=\"12px\" stroke-linecap=\"round\" transform=\"translate(70 410 )scale(1 -1 )\" font-family=\"sans-serif\" stroke-width=\"2px\" font-weight=\"bold\" text-anchor=\"middle\" dominant-baseline=\"baseline\" fill=\"black\" stroke=\"black\" stroke-linejoin=\"round\" font-style=\"normal\"><path vector-effect=\"non-scaling-stroke\" d=\"M0,2.472591e+01 L-6,2.472591e+01 M0,5.860766e+01 L-6,5.860766e+01 M0,9.248942e+01 L-6,9.248942e+01 M0,1.263712e+02 L-6,1.263712e+02 M0,1.602529e+02 L-6,1.602529e+02 M0,1.941347e+02 L-6,1.941347e+02 M0,2.280164e+02 L-6,2.280164e+02 M0,2.618982e+02 L-6,2.618982e+02 M0,2.957799e+02 L-6,2.957799e+02 M0,3.296617e+02 L-6,3.296617e+02 \"/></g><g stroke=\"black\" stroke-linecap=\"round\" text-anchor=\"end\" stroke-width=\"2px\" font-size=\"12px\" fill=\"black\" transform=\"translate(70 410 )scale(1 1 )\" font-family=\"sans-serif\" font-weight=\"normal\" dominant-baseline=\"middle\" font-style=\"normal\" stroke-linejoin=\"round\"><text y=\"-2.472591e+01\" dominant-baseline=\"middle\" stroke=\"none\" vector-effect=\"non-scaling-stroke\" x=\"-10\">1.0</text><text y=\"-5.860766e+01\" dominant-baseline=\"middle\" stroke=\"none\" vector-effect=\"non-scaling-stroke\" x=\"-10\">2.0</text><text x=\"-10\" y=\"-9.248942e+01\" dominant-baseline=\"middle\" stroke=\"none\" vector-effect=\"non-scaling-stroke\">4.0</text><text vector-effect=\"non-scaling-stroke\" x=\"-10\" y=\"-1.263712e+02\" dominant-baseline=\"middle\" stroke=\"none\">8.0</text><text stroke=\"none\" vector-effect=\"non-scaling-stroke\" x=\"-10\" y=\"-1.602529e+02\" dominant-baseline=\"middle\">16.0</text><text stroke=\"none\" vector-effect=\"non-scaling-stroke\" x=\"-10\" y=\"-1.941347e+02\" dominant-baseline=\"middle\">32.0</text><text y=\"-2.280164e+02\" dominant-baseline=\"middle\" stroke=\"none\" vector-effect=\"non-scaling-stroke\" x=\"-10\">64.0</text><text y=\"-2.618982e+02\" dominant-baseline=\"middle\" stroke=\"none\" vector-effect=\"non-scaling-stroke\" x=\"-10\">128.0</text><text vector-effect=\"non-scaling-stroke\" x=\"-10\" y=\"-2.957799e+02\" dominant-baseline=\"middle\" stroke=\"none\">256.0</text><text x=\"-10\" y=\"-3.296617e+02\" dominant-baseline=\"middle\" stroke=\"none\" vector-effect=\"non-scaling-stroke\">512.0</text></g><g stroke-linejoin=\"round\" transform=\"translate(70 410 )scale(1 1 )rotate(-90 0 0 )\" font-family=\"sans-serif\" stroke-linecap=\"round\" text-anchor=\"middle\" dominant-baseline=\"hanging\" stroke-width=\"2px\" font-size=\"12px\" font-weight=\"bold\" font-style=\"normal\" fill=\"black\" stroke=\"black\"><text vector-effect=\"non-scaling-stroke\" x=\"170\" y=\"6\" dominant-baseline=\"hanging\" stroke=\"none\">Y</text></g><g text-anchor=\"middle\" dominant-baseline=\"hanging\" stroke-width=\"0.5px\" font-size=\"12px\" stroke-linecap=\"round\" stroke-linejoin=\"round\" font-weight=\"bold\" transform=\"translate(70 410 )scale(1 -1 )\" font-family=\"sans-serif\" fill=\"black\" stroke=\"gray\" font-style=\"normal\"><path d=\"M0,2.472591e+01 L500,2.472591e+01 M0,5.860766e+01 L500,5.860766e+01 M0,9.248942e+01 L500,9.248942e+01 M0,1.263712e+02 L500,1.263712e+02 M0,1.602529e+02 L500,1.602529e+02 M0,1.941347e+02 L500,1.941347e+02 M0,2.280164e+02 L500,2.280164e+02 M0,2.618982e+02 L500,2.618982e+02 M0,2.957799e+02 L500,2.957799e+02 M0,3.296617e+02 L500,3.296617e+02 \" vector-effect=\"non-scaling-stroke\"/></g><g stroke-linecap=\"round\" stroke-linejoin=\"round\" dominant-baseline=\"hanging\" font-size=\"12px\" font-style=\"normal\" font-weight=\"bold\" text-anchor=\"middle\" font-family=\"sans-serif\" fill=\"none\" stroke=\"black\" stroke-width=\"2px\"><rect x=\"70\" y=\"70\" width=\"500\" height=\"340\" vector-effect=\"non-scaling-stroke\"/><g dominant-baseline=\"middle\" fill=\"black\" font-size=\"18px\"><text stroke=\"none\" vector-effect=\"non-scaling-stroke\" x=\"320\" y=\"35\" dominant-baseline=\"middle\">A diagram of sorts 📊 📈</text></g></g></svg></div>"
      ]
     },
     "metadata": {},
     "output_type": "display_data"
    }
   ],
   "source": [
    "import \"bytes\"\n",
    "import \"github.com/janpfeifer/gonb/gonbui\"\n",
    "import mg \"github.com/erkkah/margaid\"\n",
    "\n",
    "func mgPlot(width, height int) string {\n",
    "    randomSeries := mg.NewSeries()\n",
    "    rand.Seed(time.Now().Unix())\n",
    "    for i := float64(0); i < 10; i++ {\n",
    "        randomSeries.Add(mg.MakeValue(i+1, 200*rand.Float64()))\n",
    "    }\n",
    "\n",
    "    testSeries := mg.NewSeries()\n",
    "    multiplier := 2.1\n",
    "    v := 0.33\n",
    "    for i := float64(0); i < 10; i++ {\n",
    "        v *= multiplier\n",
    "        testSeries.Add(mg.MakeValue(i+1, v))\n",
    "    }\n",
    "\n",
    "    diagram := mg.New(width, height,\n",
    "        mg.WithAutorange(mg.XAxis, testSeries),\n",
    "        mg.WithAutorange(mg.YAxis, testSeries),\n",
    "        mg.WithAutorange(mg.Y2Axis, testSeries),\n",
    "        mg.WithProjection(mg.YAxis, mg.Log),\n",
    "        mg.WithInset(70),\n",
    "        mg.WithPadding(2),\n",
    "        mg.WithColorScheme(90),\n",
    "        mg.WithBackgroundColor(\"#f8f8f8\"),\n",
    "    )\n",
    "\n",
    "    diagram.Line(testSeries, mg.UsingAxes(mg.XAxis, mg.YAxis), mg.UsingMarker(\"square\"), mg.UsingStrokeWidth(1))\n",
    "    diagram.Smooth(testSeries, mg.UsingAxes(mg.XAxis, mg.Y2Axis), mg.UsingStrokeWidth(3.14))\n",
    "    diagram.Smooth(randomSeries, mg.UsingAxes(mg.XAxis, mg.YAxis), mg.UsingMarker(\"filled-circle\"))\n",
    "    diagram.Axis(testSeries, mg.XAxis, diagram.ValueTicker('f', 0, 10), false, \"X\")\n",
    "    diagram.Axis(testSeries, mg.YAxis, diagram.ValueTicker('f', 1, 2), true, \"Y\")\n",
    "\n",
    "    diagram.Frame()\n",
    "    diagram.Title(\"A diagram of sorts 📊 📈\")\n",
    "    buf := bytes.NewBuffer(nil)\n",
    "    diagram.Render(buf)\n",
    "    return buf.String()\n",
    "}\n",
    "\n",
    "%%\n",
    "gonbui.DisplaySvg(mgPlot(640, 480))"
   ]
  },
  {
   "cell_type": "markdown",
   "id": "e14636a3-bf1a-49cb-b6d0-d67262cf028e",
   "metadata": {},
   "source": [
    "### 4. init() 函数\n",
    "\n",
    "由于每个 cell 可以共用变量，包括函数定义，所以每个 cell 不能有自己的 init() 函数，这会导致重复定义。\n",
    "\n",
    "在 gonb 中，是这样处理的，每个 cell 可以有 `func init_something()`, 然后在编译时 gonb 会自动将它们转换为 `func init()`, 这样就能在自己的 cell 中执行自己的 init() 函数了："
   ]
  },
  {
   "cell_type": "code",
   "execution_count": 14,
   "id": "dc76ca49-7867-4951-9dd8-6c5f844f83e4",
   "metadata": {},
   "outputs": [
    {
     "name": "stdout",
     "output_type": "stream",
     "text": [
      "init_a\n",
      "main\n"
     ]
    }
   ],
   "source": [
    "// cell a\n",
    "func init_a() {\n",
    "    fmt.Println(\"init_a\")\n",
    "}\n",
    "%%\n",
    "fmt.Println(\"main\")"
   ]
  },
  {
   "cell_type": "code",
   "execution_count": 15,
   "id": "fb38b3fb-7f6e-4a02-9523-eae46ffd2854",
   "metadata": {},
   "outputs": [
    {
     "name": "stdout",
     "output_type": "stream",
     "text": [
      "init_a\n",
      "init_b\n",
      "main\n"
     ]
    }
   ],
   "source": [
    "// 先执行了 cell a 中的 init() 函数，然后执行本 cell 的 init() 函数，最后是 main() 函数\n",
    "func init_b() {\n",
    "    fmt.Println(\"init_b\")\n",
    "}\n",
    "%%\n",
    "fmt.Println(\"main\")"
   ]
  },
  {
   "cell_type": "markdown",
   "id": "fbd79e7e-8790-4f6e-8596-fc797d38a2db",
   "metadata": {},
   "source": [
    "如果不需要，可以移除，免得对后面的代码产生影响："
   ]
  },
  {
   "cell_type": "code",
   "execution_count": 16,
   "id": "0d20a9dd-028b-4795-a613-7a398475bc0b",
   "metadata": {},
   "outputs": [
    {
     "name": "stdout",
     "output_type": "stream",
     "text": [
      ". removed func init_a\n",
      ". removed func init_b\n"
     ]
    }
   ],
   "source": [
    "%rm init_a init_b"
   ]
  },
  {
   "cell_type": "markdown",
   "id": "040dc0ba-e103-4fb9-a532-860de591cef6",
   "metadata": {},
   "source": [
    "### 5. Flags"
   ]
  },
  {
   "cell_type": "markdown",
   "id": "8afbb1a5-90bc-474a-a5d0-c9afbd2657b6",
   "metadata": {},
   "source": [
    "**%%** 命令不仅会把它后面的代码 warp 到 `func main() {}`里面，它还能设置参数"
   ]
  },
  {
   "cell_type": "code",
   "execution_count": 17,
   "id": "26f9c9d5-aba5-4ac5-ba73-d4dfe411628a",
   "metadata": {},
   "outputs": [
    {
     "name": "stdout",
     "output_type": "stream",
     "text": [
      "Hello world!\n"
     ]
    }
   ],
   "source": [
    "// 首先定义个名为 who 的 flag 变量，默认为空\n",
    "var flagWho = flag.String(\"who\", \"\", \"Your name!\")\n",
    "\n",
    "// 给 who 这个变量赋值\n",
    "%% --who=world\n",
    "fmt.Printf(\"Hello %s!\\n\", *flagWho)"
   ]
  },
  {
   "cell_type": "markdown",
   "id": "0bff628c-2d00-4de3-ba43-d8b256875c35",
   "metadata": {},
   "source": [
    "同样可以使用 **%args** 来对参数进行赋值"
   ]
  },
  {
   "cell_type": "code",
   "execution_count": 18,
   "id": "20521210-41e7-4032-815e-8eca4a41603c",
   "metadata": {},
   "outputs": [
    {
     "name": "stdout",
     "output_type": "stream",
     "text": [
      "Where is Wally?"
     ]
    }
   ],
   "source": [
    "// 给 args 类型变量 who 赋值\n",
    "%args --who=Wally\n",
    "\n",
    "func main() {\n",
    "    // 解析 args\n",
    "    flag.Parse()\n",
    "    fmt.Printf(\"Where is %s?\", *flagWho)\n",
    "}\n"
   ]
  },
  {
   "cell_type": "markdown",
   "id": "b55c9cd5-1252-4315-8dcc-4cd1ae03d46f",
   "metadata": {},
   "source": [
    "### 6. 执行 shell 命令"
   ]
  },
  {
   "cell_type": "markdown",
   "id": "b9ace334-2477-4e8d-8c91-097ad76cc487",
   "metadata": {},
   "source": [
    "有两种方式执行 shell 命令：\n",
    " 1. `!`前缀 + shell 命令\n",
    " 2. `!*`前缀 + shell 命令\n",
    "\n",
    "它们唯一不同就是它们执行命令的目录不同。\n",
    "\n",
    "前者是当前 `.ipynb` 文件所在目录，后者是当前 go 程序执行编译代码的项目的目录，也就是包含 `main.go`, `go.mod` 等文件的目录。\n",
    "我们手动安装 go 依赖包时就是用的这个命令。"
   ]
  },
  {
   "cell_type": "code",
   "execution_count": 19,
   "id": "6a567d39-d2fe-49c2-9876-deb6014f0ee6",
   "metadata": {},
   "outputs": [
    {
     "name": "stdout",
     "output_type": "stream",
     "text": [
      "go version go1.23.0 linux/amd64\n"
     ]
    }
   ],
   "source": [
    "!go version"
   ]
  },
  {
   "cell_type": "code",
   "execution_count": 20,
   "id": "a30e9009-e50b-490c-985a-eff5f4484513",
   "metadata": {},
   "outputs": [
    {
     "name": "stdout",
     "output_type": "stream",
     "text": [
      "/notebooks\n",
      "total 244\n",
      "-rw-r--r--  1 jovyan users  17801 Sep  9 04:12 demo.ipynb\n",
      "drwxr-xr-x 12 jovyan users   4096 Aug 18 07:27 gonb\n",
      "-rw-r--r--  1 root   root  222917 Jul 10 07:19 tutorial.ipynb\n"
     ]
    }
   ],
   "source": [
    "!pwd && ls -l"
   ]
  },
  {
   "cell_type": "code",
   "execution_count": 21,
   "id": "5f98f0f3-5173-4548-8561-b8d4af4d6aaf",
   "metadata": {},
   "outputs": [
    {
     "name": "stdout",
     "output_type": "stream",
     "text": [
      "/tmp/gonb_e03b1eee\n",
      "total 2248\n",
      "-rw-r--r-- 1 jovyan users     633 Sep  9 04:13 go.mod\n",
      "-rwxr-xr-x 1 jovyan users 2288838 Sep  9 04:13 gonb_e03b1eee\n",
      "srwxr-xr-x 1 jovyan users       0 Sep  9 04:12 gopls_socket\n",
      "-rw-r--r-- 1 jovyan users    2983 Sep  9 04:13 go.sum\n",
      "-rw-r--r-- 1 jovyan users    1898 Sep  9 04:13 main.go\n"
     ]
    }
   ],
   "source": [
    "!* pwd && ls -l"
   ]
  },
  {
   "cell_type": "markdown",
   "id": "c8be5909-55b3-4c0f-958c-7a45b253148d",
   "metadata": {},
   "source": [
    "执行一般 shell 命令就用 `!` 前缀了："
   ]
  },
  {
   "cell_type": "code",
   "execution_count": 22,
   "id": "b224a38e-5962-49e6-aceb-e32fdd75f089",
   "metadata": {},
   "outputs": [
    {
     "name": "stdout",
     "output_type": "stream",
     "text": [
      "Counting: 4 ...\n"
     ]
    }
   ],
   "source": [
    "!((ii=0)) ;\\\n",
    "while ((ii < 5)) ; do \\\n",
    "  printf \"\\rCounting: ${ii} ...\" ;\\\n",
    "  sleep 1;\\\n",
    "  ((ii+=1));\\\n",
    "done;\\\n",
    "echo"
   ]
  },
  {
   "cell_type": "markdown",
   "id": "806018aa-16af-41a0-96ac-0297a3ffee9e",
   "metadata": {},
   "source": [
    "### 7. 测试以及 Benchmarks\n",
    "\n",
    "执行 `go test` 在这里可以用 `%test` 代替："
   ]
  },
  {
   "cell_type": "code",
   "execution_count": 23,
   "id": "08296f25-2518-4951-bc24-a2b5d2a372ad",
   "metadata": {},
   "outputs": [
    {
     "name": "stdout",
     "output_type": "stream",
     "text": [
      "goos: linux\n",
      "goarch: amd64\n",
      "pkg: gonb_e03b1eee\n",
      "cpu: AMD Ryzen 5 4500U with Radeon Graphics         \n",
      "BenchmarkIncr-6   \t1000000000\t         0.2689 ns/op\n",
      "PASS\n"
     ]
    }
   ],
   "source": [
    "import \"github.com/stretchr/testify/require\"\n",
    "\n",
    "func TestIncr(t *testing.T) {\n",
    "    require.Equal(t, 2, incr(1))    \n",
    "}\n",
    "\n",
    "func BenchmarkIncr(b *testing.B) {\n",
    "    for i := 0; i < b.N; i++ {\n",
    "        _ = incr(i)\n",
    "    }\n",
    "}\n",
    "\n",
    "%test\n",
    "// 也可以这样：\n",
    "%test -test.bench=. -test.run=Bechmark"
   ]
  },
  {
   "cell_type": "markdown",
   "id": "a9dc835b-6e3f-4d4a-b6c9-7f6c243d6a40",
   "metadata": {},
   "source": [
    "### 8. 环境变量\n",
    "\n",
    "有以下环境变量：\n",
    "\n",
    "- `GONB_DIR`: gonb 中命令执行的目录，可以通过 **%cd** 更改。\n",
    "- `GONB_TMP_DIR`: 执行 go 代码单元的临时目录，也就是 `!*` 执行的目录。当kernel 重启后，这个目录销毁并新建\n",
    "- `GONB_PIPE`: 跟 `gonbui `相关，即显示 html, image 等富文本相关。\n"
   ]
  },
  {
   "cell_type": "markdown",
   "id": "98777cb1-1e77-4757-ab8a-cdf1d455bdb8",
   "metadata": {
    "jp-MarkdownHeadingCollapsed": true
   },
   "source": [
    "### 9. 获取帮助\n",
    "\n",
    "命令 `%help`"
   ]
  }
 ],
 "metadata": {
  "kernelspec": {
   "display_name": "Go (gonb)",
   "language": "go",
   "name": "gonb"
  },
  "language_info": {
   "codemirror_mode": "",
   "file_extension": ".go",
   "mimetype": "",
   "name": "go",
   "nbconvert_exporter": "",
   "pygments_lexer": "",
   "version": "go1.23.0"
  }
 },
 "nbformat": 4,
 "nbformat_minor": 5
}
